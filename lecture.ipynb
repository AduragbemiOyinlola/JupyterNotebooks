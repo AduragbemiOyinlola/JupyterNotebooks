{
 "cells": [
  {
   "cell_type": "markdown",
   "metadata": {},
   "source": [
    "# Understanding Data Using Python's Data Analysis Tools"
   ]
  },
  {
   "cell_type": "code",
   "execution_count": 1,
   "metadata": {},
   "outputs": [],
   "source": [
    "# We will do all our imports in this cell.\n",
    "import pandas as pd\n",
    "import matplotlib.pyplot as plt\n",
    "import plotly.express as px\n",
    "import seaborn as sns\n",
    "from IPython.display import display"
   ]
  },
  {
   "cell_type": "code",
   "execution_count": 2,
   "metadata": {},
   "outputs": [],
   "source": [
    "# Define a few variables to represent the names of our dataset fields\n",
    "FAV_LANG = \"Favourite Programming Language\"\n",
    "FAV_OS = \"Favourite OS\"\n",
    "GENDER = \"Gender\"\n",
    "AGE = \"Age\"\n",
    "HOBBIES = \"Hobbies\""
   ]
  },
  {
   "cell_type": "markdown",
   "metadata": {},
   "source": [
    "### 1. How do you load the CSV file into a Pandas DataFrame?"
   ]
  },
  {
   "cell_type": "code",
   "execution_count": 3,
   "metadata": {},
   "outputs": [
    {
     "data": {
      "text/html": [
       "<div>\n",
       "<style scoped>\n",
       "    .dataframe tbody tr th:only-of-type {\n",
       "        vertical-align: middle;\n",
       "    }\n",
       "\n",
       "    .dataframe tbody tr th {\n",
       "        vertical-align: top;\n",
       "    }\n",
       "\n",
       "    .dataframe thead th {\n",
       "        text-align: right;\n",
       "    }\n",
       "</style>\n",
       "<table border=\"1\" class=\"dataframe\">\n",
       "  <thead>\n",
       "    <tr style=\"text-align: right;\">\n",
       "      <th></th>\n",
       "      <th>Favourite Programming Language</th>\n",
       "      <th>Favourite OS</th>\n",
       "      <th>Age</th>\n",
       "      <th>Gender</th>\n",
       "      <th>Hobbies</th>\n",
       "    </tr>\n",
       "  </thead>\n",
       "  <tbody>\n",
       "    <tr>\n",
       "      <th>0</th>\n",
       "      <td>Java</td>\n",
       "      <td>macOS</td>\n",
       "      <td>15</td>\n",
       "      <td>male</td>\n",
       "      <td>Coding, Sports</td>\n",
       "    </tr>\n",
       "    <tr>\n",
       "      <th>1</th>\n",
       "      <td>Rust</td>\n",
       "      <td>Linux</td>\n",
       "      <td>21</td>\n",
       "      <td>male</td>\n",
       "      <td>Art</td>\n",
       "    </tr>\n",
       "    <tr>\n",
       "      <th>2</th>\n",
       "      <td>Rust</td>\n",
       "      <td>Linux</td>\n",
       "      <td>26</td>\n",
       "      <td>female</td>\n",
       "      <td>Sports, Traveling, Gaming, Writing, Photograph...</td>\n",
       "    </tr>\n",
       "    <tr>\n",
       "      <th>3</th>\n",
       "      <td>JavaScript</td>\n",
       "      <td>Windows</td>\n",
       "      <td>29</td>\n",
       "      <td>male</td>\n",
       "      <td>Photography, Gaming, Reading, Coding</td>\n",
       "    </tr>\n",
       "    <tr>\n",
       "      <th>4</th>\n",
       "      <td>C#</td>\n",
       "      <td>Linux</td>\n",
       "      <td>25</td>\n",
       "      <td>female</td>\n",
       "      <td>Music, Photography, Sports, Gaming, Coding, Ar...</td>\n",
       "    </tr>\n",
       "  </tbody>\n",
       "</table>\n",
       "</div>"
      ],
      "text/plain": [
       "  Favourite Programming Language Favourite OS  Age  Gender  \\\n",
       "0                           Java        macOS   15    male   \n",
       "1                           Rust        Linux   21    male   \n",
       "2                           Rust        Linux   26  female   \n",
       "3                     JavaScript      Windows   29    male   \n",
       "4                             C#        Linux   25  female   \n",
       "\n",
       "                                             Hobbies  \n",
       "0                                     Coding, Sports  \n",
       "1                                                Art  \n",
       "2  Sports, Traveling, Gaming, Writing, Photograph...  \n",
       "3               Photography, Gaming, Reading, Coding  \n",
       "4  Music, Photography, Sports, Gaming, Coding, Ar...  "
      ]
     },
     "metadata": {},
     "output_type": "display_data"
    }
   ],
   "source": [
    "try:\n",
    "    df = pd.read_csv(\"data/survey.csv\")\n",
    "    display(df.head())\n",
    "except FileNotFoundError:\n",
    "    print(\n",
    "        \"The file 'survey.csv' could not be found. Please ensure the file is in the correct directory.\"\n",
    "    )"
   ]
  },
  {
   "cell_type": "markdown",
   "metadata": {},
   "source": [
    "### 2. How do you display basic information about the DataFrame, including the number of rows, columns, and data types of each column?"
   ]
  },
  {
   "cell_type": "code",
   "execution_count": 4,
   "metadata": {},
   "outputs": [
    {
     "name": "stdout",
     "output_type": "stream",
     "text": [
      "Your dataset has 50 rows and 5 columns.\n",
      "\n",
      "<class 'pandas.core.frame.DataFrame'>\n",
      "RangeIndex: 50 entries, 0 to 49\n",
      "Data columns (total 5 columns):\n",
      " #   Column                          Non-Null Count  Dtype \n",
      "---  ------                          --------------  ----- \n",
      " 0   Favourite Programming Language  50 non-null     object\n",
      " 1   Favourite OS                    50 non-null     object\n",
      " 2   Age                             50 non-null     int64 \n",
      " 3   Gender                          50 non-null     object\n",
      " 4   Hobbies                         50 non-null     object\n",
      "dtypes: int64(1), object(4)\n",
      "memory usage: 2.1+ KB\n"
     ]
    }
   ],
   "source": [
    "rows, columns = df.shape\n",
    "print(f\"Your dataset has {rows} rows and {columns} columns.\\n\")\n",
    "df.info()"
   ]
  },
  {
   "cell_type": "markdown",
   "metadata": {},
   "source": [
    "### 3. How do you get summary statistics for numerical columns in the dataset?"
   ]
  },
  {
   "cell_type": "code",
   "execution_count": 5,
   "metadata": {},
   "outputs": [
    {
     "name": "stdout",
     "output_type": "stream",
     "text": [
      "A summary of the dataset's numerical columns:\n",
      "             Age\n",
      "count  50.000000\n",
      "mean   19.820000\n",
      "std     4.901853\n",
      "min    12.000000\n",
      "25%    15.250000\n",
      "50%    19.500000\n",
      "75%    23.750000\n",
      "max    30.000000\n"
     ]
    }
   ],
   "source": [
    "data_description = df.describe()\n",
    "print(f\"A summary of the dataset's numerical columns:\\n{data_description}\")"
   ]
  },
  {
   "cell_type": "markdown",
   "metadata": {},
   "source": [
    "Before preprocessing it is advisable to create a copy of the original dataset. This is because preprocessing steps can be destructive and we may need to refer back to the original dataset. We will create a copy of the dataset and name it `dup_df`. We will then proceed to preprocess the dataset."
   ]
  },
  {
   "cell_type": "markdown",
   "metadata": {},
   "source": [
    "### 4. How do you check for missing values in the dataset?"
   ]
  },
  {
   "cell_type": "code",
   "execution_count": 6,
   "metadata": {},
   "outputs": [
    {
     "name": "stdout",
     "output_type": "stream",
     "text": [
      "The number of missing values in the dataset is as follows:\n",
      "\n",
      "Favourite Programming Language    0\n",
      "Favourite OS                      0\n",
      "Age                               0\n",
      "Gender                            0\n",
      "Hobbies                           0\n",
      "dtype: int64\n"
     ]
    }
   ],
   "source": [
    "print(\"The number of missing values in the dataset is as follows:\\n\")\n",
    "print(df.isnull().sum())"
   ]
  },
  {
   "cell_type": "markdown",
   "metadata": {},
   "source": [
    "### 5. How do you fill missing values in the age column with the mean age?"
   ]
  },
  {
   "cell_type": "code",
   "execution_count": 7,
   "metadata": {},
   "outputs": [
    {
     "name": "stdout",
     "output_type": "stream",
     "text": [
      "The number of missing values in the dataset after filling with the mean:\n",
      "\n",
      "Favourite Programming Language    0\n",
      "Favourite OS                      0\n",
      "Age                               0\n",
      "Gender                            0\n",
      "Hobbies                           0\n",
      "dtype: int64\n"
     ]
    }
   ],
   "source": [
    "mean_age = df[AGE].mean()\n",
    "df.fillna({AGE: mean_age}, inplace=True)\n",
    "print(\"The number of missing values in the dataset after filling with the mean:\\n\")\n",
    "print(df.isnull().sum())"
   ]
  },
  {
   "cell_type": "markdown",
   "metadata": {},
   "source": [
    "### 6. How do you drop rows with any missing values?"
   ]
  },
  {
   "cell_type": "code",
   "execution_count": 8,
   "metadata": {},
   "outputs": [
    {
     "data": {
      "text/html": [
       "<div>\n",
       "<style scoped>\n",
       "    .dataframe tbody tr th:only-of-type {\n",
       "        vertical-align: middle;\n",
       "    }\n",
       "\n",
       "    .dataframe tbody tr th {\n",
       "        vertical-align: top;\n",
       "    }\n",
       "\n",
       "    .dataframe thead th {\n",
       "        text-align: right;\n",
       "    }\n",
       "</style>\n",
       "<table border=\"1\" class=\"dataframe\">\n",
       "  <thead>\n",
       "    <tr style=\"text-align: right;\">\n",
       "      <th></th>\n",
       "      <th>Favourite Programming Language</th>\n",
       "      <th>Favourite OS</th>\n",
       "      <th>Age</th>\n",
       "      <th>Gender</th>\n",
       "      <th>Hobbies</th>\n",
       "    </tr>\n",
       "  </thead>\n",
       "  <tbody>\n",
       "    <tr>\n",
       "      <th>0</th>\n",
       "      <td>Java</td>\n",
       "      <td>macOS</td>\n",
       "      <td>15</td>\n",
       "      <td>male</td>\n",
       "      <td>Coding, Sports</td>\n",
       "    </tr>\n",
       "    <tr>\n",
       "      <th>1</th>\n",
       "      <td>Rust</td>\n",
       "      <td>Linux</td>\n",
       "      <td>21</td>\n",
       "      <td>male</td>\n",
       "      <td>Art</td>\n",
       "    </tr>\n",
       "    <tr>\n",
       "      <th>2</th>\n",
       "      <td>Rust</td>\n",
       "      <td>Linux</td>\n",
       "      <td>26</td>\n",
       "      <td>female</td>\n",
       "      <td>Sports, Traveling, Gaming, Writing, Photograph...</td>\n",
       "    </tr>\n",
       "    <tr>\n",
       "      <th>3</th>\n",
       "      <td>JavaScript</td>\n",
       "      <td>Windows</td>\n",
       "      <td>29</td>\n",
       "      <td>male</td>\n",
       "      <td>Photography, Gaming, Reading, Coding</td>\n",
       "    </tr>\n",
       "    <tr>\n",
       "      <th>4</th>\n",
       "      <td>C#</td>\n",
       "      <td>Linux</td>\n",
       "      <td>25</td>\n",
       "      <td>female</td>\n",
       "      <td>Music, Photography, Sports, Gaming, Coding, Ar...</td>\n",
       "    </tr>\n",
       "  </tbody>\n",
       "</table>\n",
       "</div>"
      ],
      "text/plain": [
       "  Favourite Programming Language Favourite OS  Age  Gender  \\\n",
       "0                           Java        macOS   15    male   \n",
       "1                           Rust        Linux   21    male   \n",
       "2                           Rust        Linux   26  female   \n",
       "3                     JavaScript      Windows   29    male   \n",
       "4                             C#        Linux   25  female   \n",
       "\n",
       "                                             Hobbies  \n",
       "0                                     Coding, Sports  \n",
       "1                                                Art  \n",
       "2  Sports, Traveling, Gaming, Writing, Photograph...  \n",
       "3               Photography, Gaming, Reading, Coding  \n",
       "4  Music, Photography, Sports, Gaming, Coding, Ar...  "
      ]
     },
     "metadata": {},
     "output_type": "display_data"
    }
   ],
   "source": [
    "dup_df.dropna(inplace=True)\n",
    "display(dup_df.head())\n"
   ]
  },
  {
   "cell_type": "markdown",
   "metadata": {},
   "source": [
    "### 7. How do you convert the 'age' column to an integer type?"
   ]
  },
  {
   "cell_type": "code",
   "execution_count": 9,
   "metadata": {},
   "outputs": [],
   "source": [
    "dup_df[AGE] = dup_df[AGE].astype(int)"
   ]
  },
  {
   "cell_type": "markdown",
   "metadata": {},
   "source": [
    "### 8. How do you find the unique values in the 'favourite programming language' column?"
   ]
  },
  {
   "cell_type": "code",
   "execution_count": 10,
   "metadata": {},
   "outputs": [
    {
     "name": "stdout",
     "output_type": "stream",
     "text": [
      "['Java' 'Rust' 'JavaScript' 'C#' 'Go' 'Kotlin' 'Swift' 'Python']\n"
     ]
    }
   ],
   "source": [
    "unique_values = dup_df[FAV_LANG].unique()\n",
    "print(unique_values)"
   ]
  },
  {
   "cell_type": "markdown",
   "metadata": {},
   "source": [
    "### 9. How do you count the number of occurences of each unique value in the 'gender' column?"
   ]
  },
  {
   "cell_type": "code",
   "execution_count": 11,
   "metadata": {},
   "outputs": [
    {
     "data": {
      "text/plain": [
       "Gender\n",
       "female    26\n",
       "male      24\n",
       "Name: count, dtype: int64"
      ]
     },
     "execution_count": 11,
     "metadata": {},
     "output_type": "execute_result"
    }
   ],
   "source": [
    "dup_df[GENDER].value_counts()\n",
    "# dup_df.groupby(GENDER).size()"
   ]
  },
  {
   "cell_type": "markdown",
   "metadata": {},
   "source": [
    "### 10. How do you filter the Dataframe to show only rows where the favourite programming language is Python?"
   ]
  },
  {
   "cell_type": "code",
   "execution_count": 12,
   "metadata": {},
   "outputs": [
    {
     "data": {
      "text/html": [
       "<div>\n",
       "<style scoped>\n",
       "    .dataframe tbody tr th:only-of-type {\n",
       "        vertical-align: middle;\n",
       "    }\n",
       "\n",
       "    .dataframe tbody tr th {\n",
       "        vertical-align: top;\n",
       "    }\n",
       "\n",
       "    .dataframe thead th {\n",
       "        text-align: right;\n",
       "    }\n",
       "</style>\n",
       "<table border=\"1\" class=\"dataframe\">\n",
       "  <thead>\n",
       "    <tr style=\"text-align: right;\">\n",
       "      <th></th>\n",
       "      <th>Favourite Programming Language</th>\n",
       "      <th>Favourite OS</th>\n",
       "      <th>Age</th>\n",
       "      <th>Gender</th>\n",
       "      <th>Hobbies</th>\n",
       "    </tr>\n",
       "  </thead>\n",
       "  <tbody>\n",
       "    <tr>\n",
       "      <th>32</th>\n",
       "      <td>Python</td>\n",
       "      <td>Solaris</td>\n",
       "      <td>19</td>\n",
       "      <td>male</td>\n",
       "      <td>Writing, Sports, Art, Hiking, Music, Gaming, P...</td>\n",
       "    </tr>\n",
       "    <tr>\n",
       "      <th>34</th>\n",
       "      <td>Python</td>\n",
       "      <td>Solaris</td>\n",
       "      <td>24</td>\n",
       "      <td>male</td>\n",
       "      <td>Gaming, Music, Reading, Writing, Art, Coding, ...</td>\n",
       "    </tr>\n",
       "    <tr>\n",
       "      <th>39</th>\n",
       "      <td>Python</td>\n",
       "      <td>macOS</td>\n",
       "      <td>16</td>\n",
       "      <td>female</td>\n",
       "      <td>Coding, Reading, Writing</td>\n",
       "    </tr>\n",
       "  </tbody>\n",
       "</table>\n",
       "</div>"
      ],
      "text/plain": [
       "   Favourite Programming Language Favourite OS  Age  Gender  \\\n",
       "32                         Python      Solaris   19    male   \n",
       "34                         Python      Solaris   24    male   \n",
       "39                         Python        macOS   16  female   \n",
       "\n",
       "                                              Hobbies  \n",
       "32  Writing, Sports, Art, Hiking, Music, Gaming, P...  \n",
       "34  Gaming, Music, Reading, Writing, Art, Coding, ...  \n",
       "39                           Coding, Reading, Writing  "
      ]
     },
     "execution_count": 12,
     "metadata": {},
     "output_type": "execute_result"
    }
   ],
   "source": [
    "python_fans = dup_df[dup_df[FAV_LANG]==\"Python\"]\n",
    "python_fans"
   ]
  },
  {
   "cell_type": "markdown",
   "metadata": {},
   "source": [
    "### 10a. Another method"
   ]
  },
  {
   "cell_type": "code",
   "execution_count": 13,
   "metadata": {},
   "outputs": [
    {
     "data": {
      "text/html": [
       "<div>\n",
       "<style scoped>\n",
       "    .dataframe tbody tr th:only-of-type {\n",
       "        vertical-align: middle;\n",
       "    }\n",
       "\n",
       "    .dataframe tbody tr th {\n",
       "        vertical-align: top;\n",
       "    }\n",
       "\n",
       "    .dataframe thead th {\n",
       "        text-align: right;\n",
       "    }\n",
       "</style>\n",
       "<table border=\"1\" class=\"dataframe\">\n",
       "  <thead>\n",
       "    <tr style=\"text-align: right;\">\n",
       "      <th></th>\n",
       "      <th>Favourite Programming Language</th>\n",
       "      <th>Favourite OS</th>\n",
       "      <th>Age</th>\n",
       "      <th>Gender</th>\n",
       "      <th>Hobbies</th>\n",
       "    </tr>\n",
       "  </thead>\n",
       "  <tbody>\n",
       "    <tr>\n",
       "      <th>32</th>\n",
       "      <td>Python</td>\n",
       "      <td>Solaris</td>\n",
       "      <td>19</td>\n",
       "      <td>male</td>\n",
       "      <td>Writing, Sports, Art, Hiking, Music, Gaming, P...</td>\n",
       "    </tr>\n",
       "    <tr>\n",
       "      <th>34</th>\n",
       "      <td>Python</td>\n",
       "      <td>Solaris</td>\n",
       "      <td>24</td>\n",
       "      <td>male</td>\n",
       "      <td>Gaming, Music, Reading, Writing, Art, Coding, ...</td>\n",
       "    </tr>\n",
       "    <tr>\n",
       "      <th>39</th>\n",
       "      <td>Python</td>\n",
       "      <td>macOS</td>\n",
       "      <td>16</td>\n",
       "      <td>female</td>\n",
       "      <td>Coding, Reading, Writing</td>\n",
       "    </tr>\n",
       "  </tbody>\n",
       "</table>\n",
       "</div>"
      ],
      "text/plain": [
       "   Favourite Programming Language Favourite OS  Age  Gender  \\\n",
       "32                         Python      Solaris   19    male   \n",
       "34                         Python      Solaris   24    male   \n",
       "39                         Python        macOS   16  female   \n",
       "\n",
       "                                              Hobbies  \n",
       "32  Writing, Sports, Art, Hiking, Music, Gaming, P...  \n",
       "34  Gaming, Music, Reading, Writing, Art, Coding, ...  \n",
       "39                           Coding, Reading, Writing  "
      ]
     },
     "execution_count": 13,
     "metadata": {},
     "output_type": "execute_result"
    }
   ],
   "source": [
    "python_users = dup_df.query('`Favourite Programming Language` == \"Python\"')\n",
    "python_users"
   ]
  },
  {
   "cell_type": "markdown",
   "metadata": {},
   "source": [
    "### 11. How do you group data by 'favourite operating system' and calculate the average age for each group?"
   ]
  },
  {
   "cell_type": "code",
   "execution_count": null,
   "metadata": {},
   "outputs": [],
   "source": [
    "os_groups = dup_df.groupby(FAV_OS)\n",
    "os_groups[AGE].mean()"
   ]
  },
  {
   "cell_type": "markdown",
   "metadata": {},
   "source": [
    "### 12. How do you aggregrate the data to find the count of each 'favorite programming language' grouped by 'gender'?"
   ]
  },
  {
   "cell_type": "code",
   "execution_count": null,
   "metadata": {},
   "outputs": [],
   "source": [
    "dup_df.groupby(GENDER)[FAV_LANG].value_counts()"
   ]
  },
  {
   "cell_type": "markdown",
   "metadata": {},
   "source": [
    "### 13. How do you create a bar chart to show the number of people who chose each favourite programming language?"
   ]
  },
  {
   "cell_type": "code",
   "execution_count": null,
   "metadata": {},
   "outputs": [],
   "source": [
    "dup_df[FAV_LANG].value_counts().plot(kind=\"bar\")"
   ]
  },
  {
   "cell_type": "markdown",
   "metadata": {},
   "source": [
    "### 14. How do you create a pie chart to show the distribution of the favourite operating systems? "
   ]
  },
  {
   "cell_type": "code",
   "execution_count": null,
   "metadata": {},
   "outputs": [],
   "source": [
    "pie_y_labels = dup_df[FAV_LANG].value_counts()\n",
    "pie_x_labels = pie_y_labels.index\n",
    "colors = [\"#1f77b4\", \"#ff7f0e\", \"#2ca02c\", \"#d62728\", \"#9467bd\", \"#8c564b\", \"#e377c2\", \"#7f7f7f\", \"#bcbd22\", \"#17becf\"]\n",
    "plt.pie(pie_y_labels, labels=pie_x_labels, autopct=\"%1.1f%%\", colors=colors);"
   ]
  },
  {
   "cell_type": "markdown",
   "metadata": {},
   "source": [
    "### 15. How do you create a histogram to visualize the distribution of the ages?"
   ]
  },
  {
   "cell_type": "code",
   "execution_count": null,
   "metadata": {},
   "outputs": [],
   "source": [
    "sns.histplot(data=dup_df, x=AGE, bins=5, kde=True, color=\"black\");"
   ]
  },
  {
   "cell_type": "markdown",
   "metadata": {},
   "source": [
    "### 16. How do you create a scatter plot to show the relationship between age and favourite programming language?"
   ]
  },
  {
   "cell_type": "code",
   "execution_count": null,
   "metadata": {},
   "outputs": [],
   "source": [
    "numerical_value_for_favorite_language = df[FAV_LANG].apply(\n",
    "    lambda x: hash(x) % 100\n",
    ")\n",
    "sns.scatterplot(data=df, x=AGE, y=numerical_value_for_favorite_language, alpha=0.5);"
   ]
  },
  {
   "cell_type": "markdown",
   "metadata": {},
   "source": [
    "### 17. How do you create a boxplot to compare the ages across different programming languages?"
   ]
  },
  {
   "cell_type": "code",
   "execution_count": null,
   "metadata": {},
   "outputs": [],
   "source": [
    "sns.boxplot(data=df, x=FAV_LANG, y=AGE);"
   ]
  },
  {
   "cell_type": "markdown",
   "metadata": {},
   "source": [
    "### 18. How do you create a stacked bar chart to show the number of people for each combination of favourite programming language and gender?"
   ]
  },
  {
   "cell_type": "code",
   "execution_count": null,
   "metadata": {},
   "outputs": [],
   "source": [
    "gender_language_groups = dup_df.groupby([GENDER, FAV_LANG]).size().unstack()\n",
    "gender_language_groups.plot(kind=\"bar\", stacked=True, figsize=(12, 6))"
   ]
  },
  {
   "cell_type": "markdown",
   "metadata": {},
   "source": [
    "### 19. How do you create a figure with subplots for the distributions of age, favourite programming language, and favourite operating system?"
   ]
  },
  {
   "cell_type": "code",
   "execution_count": null,
   "metadata": {},
   "outputs": [],
   "source": [
    "fig, axs = plt.subplots(1, 3, figsize=(15, 5))\n",
    "\n",
    "df[AGE].plot(kind='hist', bins=10, ax=axs[0], color='green')\n",
    "axs[0].set_title('Age Distribution')\n",
    "\n",
    "df[FAV_LANG].value_counts().plot(kind='bar', ax=axs[1], color='skyblue')\n",
    "axs[1].set_title('Favourite Programming Languages')\n",
    "\n",
    "df[FAV_OS].value_counts().plot(kind='pie', autopct='%1.1f%%', ax=axs[2], startangle=140)\n",
    "axs[2].set_title('Favourite Operating Systems')\n",
    "axs[2].set_ylabel('')\n",
    "\n",
    "plt.tight_layout()\n",
    "plt.show()"
   ]
  },
  {
   "cell_type": "markdown",
   "metadata": {},
   "source": [
    "### 20. How do you create an interactive bar chart to show the count of each favourite programming language using Plotly?"
   ]
  },
  {
   "cell_type": "code",
   "execution_count": null,
   "metadata": {},
   "outputs": [],
   "source": [
    "fig = px.bar(df, x=FAV_LANG, title='Favourite Programming Languages')\n",
    "fig.show()"
   ]
  }
 ],
 "metadata": {
  "kernelspec": {
   "display_name": "Python 3 (ipykernel)",
   "language": "python",
   "name": "python3"
  },
  "language_info": {
   "codemirror_mode": {
    "name": "ipython",
    "version": 3
   },
   "file_extension": ".py",
   "mimetype": "text/x-python",
   "name": "python",
   "nbconvert_exporter": "python",
   "pygments_lexer": "ipython3",
   "version": "3.12.2"
  }
 },
 "nbformat": 4,
 "nbformat_minor": 4
}
